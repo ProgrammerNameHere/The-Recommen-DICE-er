{
 "cells": [
  {
   "cell_type": "code",
   "execution_count": null,
   "metadata": {},
   "outputs": [],
   "source": [
    "#data handling\n",
    "import pandas as pd\n",
    "import numpy as np\n",
    "import pprint\n",
    "\n",
    "#plotting\n",
    "import matplotlib.pyplot as plt\n",
    "\n",
    "#model building\n",
    "from sklearn.model_selection import train_test_split\n",
    "import tensorflow as tf\n",
    "import tensorflow_datasets as tfds\n",
    "import tensorflow_recommenders as tfrs\n",
    "from tensorflow import keras\n",
    "import keras\n",
    "import pickle\n",
    "\n",
    "#misc\n",
    "import os\n",
    "import datetime"
   ]
  },
  {
   "cell_type": "code",
   "execution_count": null,
   "metadata": {},
   "outputs": [],
   "source": [
    "df_complete = pd.read_csv('../data/game_details_cleaned.csv')\n",
    "df_complete.info()"
   ]
  },
  {
   "cell_type": "code",
   "execution_count": null,
   "metadata": {},
   "outputs": [],
   "source": [
    "df_complete.columns"
   ]
  },
  {
   "cell_type": "code",
   "execution_count": null,
   "metadata": {},
   "outputs": [],
   "source": [
    "df_features = df_complete.drop(['name', 'yearpublished','rank', 'bayesaverage', 'average',\n",
    "       'usersrated', 'is_expansion', 'abstracts_rank', 'cgs_rank',\n",
    "       'childrensgames_rank','familygames_rank', 'partygames_rank', 'strategygames_rank',\n",
    "       'thematic_rank', 'wargames_rank', 'averageweight', 'boardgameartists',\n",
    "       'boardgamecategories', 'boardgamedesigners', 'boardgamefamilies','boardgamemechanics', 'community_best_with',\n",
    "       'community_recommended_with', 'description', 'game_id', 'maxplayers',\n",
    "       'maxplaytime', 'median', 'minage', 'minplayers','minplaytime', 'numcomments', 'numweights', 'owned','stddev', 'trading', 'wanting', 'wishing',], axis=1)\n"
   ]
  },
  {
   "cell_type": "code",
   "execution_count": null,
   "metadata": {},
   "outputs": [],
   "source": [
    "# List of features for model building\n",
    "# feature_names = ['average', 'usersrated', 'playingtime', 'averageweight']\n",
    "feature_list = df_features.columns.to_list()\n",
    "# Create feature dataset\n",
    "# df_features = df_merged[feature_names]\n",
    "\n",
    "# Create game id dataset (important for indexing later)\n",
    "df_game_ids = df_complete['game_id']"
   ]
  },
  {
   "cell_type": "code",
   "execution_count": null,
   "metadata": {},
   "outputs": [],
   "source": [
    "df_features.info()"
   ]
  },
  {
   "cell_type": "code",
   "execution_count": null,
   "metadata": {},
   "outputs": [],
   "source": [
    "# Create candidate dictionary with features and game_id keys \n",
    "candidate_data_dict = {\n",
    "    \"features\": [],\n",
    "    \"game_id\": []\n",
    "}\n",
    "\n",
    "for index, feature_row in df_features.iterrows():\n",
    "    candidate_data_dict[\"features\"].append(feature_row.tolist())  \n",
    "    candidate_data_dict[\"game_id\"].append(df_game_ids.iloc[index])\n"
   ]
  },
  {
   "cell_type": "code",
   "execution_count": null,
   "metadata": {},
   "outputs": [],
   "source": [
    "# Convert the list into a tensorflow dataset\n",
    "candidate_dataset = tf.data.Dataset.from_tensor_slices(candidate_data_dict)\n",
    "\n",
    "# Batch data for optimization\n",
    "candidate_dataset = candidate_dataset.batch(32)"
   ]
  },
  {
   "cell_type": "code",
   "execution_count": null,
   "metadata": {},
   "outputs": [],
   "source": [
    "# Split feature dataset into train, validation, and test sets\n",
    "train_data, test_data = train_test_split(df_features, test_size=0.2, random_state=42)\n",
    "train_data, val_data = train_test_split(train_data, test_size=0.1, random_state=42)"
   ]
  },
  {
   "cell_type": "code",
   "execution_count": null,
   "metadata": {},
   "outputs": [],
   "source": [
    "# Create a tensorflow normalization layer and adapt it on the training data\n",
    "normalizer = tf.keras.layers.Normalization()\n",
    "normalizer.adapt(train_data.to_numpy())"
   ]
  },
  {
   "cell_type": "code",
   "execution_count": null,
   "metadata": {},
   "outputs": [],
   "source": [
    "# Function for creating train, validation and test tensorflow datasets\n",
    "def df_to_dataset(dataframe, shuffle=True, batch_size=32):\n",
    "    dataframe = dataframe.copy()\n",
    "    ds = tf.data.Dataset.from_tensor_slices({\"features\": dataframe.to_numpy()})\n",
    "    if shuffle:\n",
    "        ds = ds.shuffle(buffer_size=len(dataframe))\n",
    "    ds = ds.batch(batch_size)\n",
    "    return ds\n",
    "\n",
    "batch_size = 32\n",
    "train_ds = df_to_dataset(train_data, batch_size=batch_size)\n",
    "val_ds = df_to_dataset(val_data, shuffle=False, batch_size=batch_size)\n",
    "test_ds = df_to_dataset(test_data, shuffle=False, batch_size=batch_size)"
   ]
  },
  {
   "cell_type": "code",
   "execution_count": null,
   "metadata": {},
   "outputs": [],
   "source": [
    "# Define the BoardgameContentModel class\n",
    "class BoardgameContentModel(tfrs.Model):\n",
    "    # Initialize the parent tfrs.Model class.\n",
    "    def __init__(self, embedding_dim, candidate_dataset):\n",
    "        super().__init__()\n",
    "        \n",
    "        # Build the boardgame feature encoder (tower)\n",
    "        # - Input: Feature vector with length equal to number of feature_names\n",
    "        # - Hidden layer: 64 neurons with ReLU activation\n",
    "        # - Output layer: Projects to the embedding space of dimension `embedding_dim`\n",
    "        # - Normalization: L2 normalization for cosine similarity      \n",
    "        self.boardgame_model = tf.keras.Sequential([\n",
    "            tf.keras.layers.InputLayer(input_shape=(df_features.shape[1],)),\n",
    "            tf.keras.layers.Dense(64, activation='relu'),\n",
    "            tf.keras.layers.Dense(embedding_dim),\n",
    "            tf.keras.layers.Lambda(lambda x: tf.math.l2_normalize(x, axis=1))\n",
    "        ])\n",
    "        \n",
    "        # Precompute candidate embeddings from the candidate dataset\n",
    "        # Each candidate is expected to be a dictionary with a features key    \n",
    "        candidate_embeddings = candidate_dataset.map(\n",
    "            lambda x: self.boardgame_model(x[\"features\"])\n",
    "        )\n",
    "        \n",
    "        # Configure the retrieval task with FactorizedTopK metrics using the candidate embeddings\n",
    "        self.task = tfrs.tasks.Retrieval(\n",
    "            metrics=tfrs.metrics.FactorizedTopK(candidates=candidate_embeddings)\n",
    "        )\n",
    "         \n",
    "        # Add a call() method to define the forward pass.\n",
    "    def call(self, inputs, training=False):\n",
    "        # For inference, simply return the boardgame embedding.\n",
    "        return self.boardgame_model(inputs[\"features\"])\n",
    "    \n",
    "    # The compute_loss method defines how the model's loss is computed during training\n",
    "    def compute_loss(self, features, training=False):\n",
    "        # Compute boardgame embeddings from the input features.\n",
    "        boardgame_embeddings = self.boardgame_model(features[\"features\"])\n",
    "        \n",
    "        # Use the embeddings as both query and candidate for the retrieval task\n",
    "        # The task computes a loss based on ranking similar items higher    \n",
    "        return self.task(boardgame_embeddings, boardgame_embeddings)\n",
    "\n",
    "\n"
   ]
  },
  {
   "cell_type": "code",
   "execution_count": null,
   "metadata": {},
   "outputs": [],
   "source": [
    "log_dir = \"logs/fit/\" + datetime.datetime.now().strftime(\"%Y%m%d-%H%M%S\")\n",
    "tensorboard_callback = tf.keras.callbacks.TensorBoard(log_dir=log_dir, histogram_freq=1)"
   ]
  },
  {
   "cell_type": "code",
   "execution_count": null,
   "metadata": {},
   "outputs": [],
   "source": [
    "# Pass candidate_ds to your model\n",
    "embedding_dim = 32\n",
    "model = BoardgameContentModel(embedding_dim, candidate_dataset)\n",
    "\n",
    "# Compile the model with the adam adaptive learning rate optimization algorithm\n",
    "model.compile(optimizer=tf.keras.optimizers.Adam(learning_rate=0.001))\n",
    "\n",
    "# Train the model\n",
    "history = model.fit(train_ds, validation_data=val_ds, epochs=2, callbacks=[tensorboard_callback])\n",
    "\n",
    "# Plot the training and validation loss over epochs.\n",
    "plt.figure(figsize=(8, 4))\n",
    "plt.plot(history.history['loss'], label='Training Loss')\n",
    "plt.plot(history.history['val_loss'], label='Validation Loss')\n",
    "plt.xlabel('Epochs')\n",
    "plt.ylabel('Loss')\n",
    "plt.title('Training and Validation Loss')\n",
    "plt.legend()\n",
    "plt.show()"
   ]
  },
  {
   "cell_type": "code",
   "execution_count": null,
   "metadata": {},
   "outputs": [],
   "source": [
    "# # Create visual representation of the model\n",
    "# # Load model with sample iinput\n",
    "# sample_input = tf.random.uniform((1, df_features.shape[1]))\n",
    "# _ = model({\"features\": sample_input})  # Run a forward pass\n",
    "\n",
    "# # Plot model\n",
    "# tf.keras.utils.plot_model(model, to_file=\"boardgame_model.png\", show_shapes=True, show_layer_names=True)\n"
   ]
  },
  {
   "cell_type": "code",
   "execution_count": null,
   "metadata": {},
   "outputs": [],
   "source": [
    "tensorboard --logdir notebooks/logs\n"
   ]
  },
  {
   "cell_type": "code",
   "execution_count": null,
   "metadata": {},
   "outputs": [],
   "source": [
    "# Plot changes in model accuracy during training\n",
    "plt.plot(history.history[\"factorized_top_k/top_100_categorical_accuracy\"])\n",
    "plt.plot(history.history[\"val_factorized_top_k/top_100_categorical_accuracy\"])\n",
    "plt.title(\"Model accuracies during training\")\n",
    "plt.xlabel(\"epoch\")\n",
    "plt.ylabel(\"accuracy\")\n",
    "plt.legend([\"train\", \"test\"], loc=\"upper right\")\n",
    "plt.show()"
   ]
  },
  {
   "cell_type": "code",
   "execution_count": null,
   "metadata": {},
   "outputs": [],
   "source": [
    "# Evaluate model on test data \n",
    "model.evaluate(test_ds, return_dict=True)"
   ]
  },
  {
   "cell_type": "code",
   "execution_count": null,
   "metadata": {},
   "outputs": [],
   "source": [
    "# # Custom callback to evaluate on the test set after each epoch.\n",
    "# class TestSetEvaluator(tf.keras.callbacks.Callback):\n",
    "#     def __init__(self, test_dataset):\n",
    "#         super().__init__()\n",
    "#         self.test_dataset = test_dataset\n",
    "#         self.test_metrics = []  # To store metrics from each epoch\n",
    "\n",
    "#     def on_epoch_end(self, epoch, logs=None):\n",
    "#         # Evaluate the model on the test set silently\n",
    "#         test_result = self.model.evaluate(self.test_dataset, verbose=0)\n",
    "#         # Create a dictionary mapping metric names to their values\n",
    "#         metrics_dict = dict(zip(self.model.metrics_names, test_result))\n",
    "#         self.test_metrics.append(metrics_dict)\n",
    "#         print(f\"Test metrics after epoch {epoch+1}: {metrics_dict}\")\n",
    "\n",
    "# # Assume you have a test dataset called `test_ds`\n",
    "# test_evaluator = TestSetEvaluator(test_ds)\n",
    "\n",
    "# # Train the model while using the custom callback\n",
    "# history = model.fit(train_ds, validation_data=val_ds, epochs=3, callbacks=[test_evaluator])\n"
   ]
  },
  {
   "cell_type": "code",
   "execution_count": null,
   "metadata": {},
   "outputs": [],
   "source": [
    "# # Extract training top-1 accuracy from history.\n",
    "# # Adjust the key based on your metric name (e.g., \"factorized_top_k/top_1_categorical_accuracy\")\n",
    "# train_top1 = history.history['factorized_top_k/top_1_categorical_accuracy']\n",
    "\n",
    "# # Extract test top-1 accuracy from the custom callback\n",
    "# test_top1 = [metrics['factorized_top_k/top_1_categorical_accuracy'] for metrics in test_evaluator.test_metrics]\n",
    "\n",
    "# # Define the number of epochs (assuming both lists have the same length)\n",
    "# epochs = range(1, len(train_top1) + 1)\n",
    "\n",
    "# # Plot training and test metrics\n",
    "# plt.figure(figsize=(8, 5))\n",
    "# plt.plot(epochs, train_top1, marker='o', label='Train Top-1 Accuracy')\n",
    "# plt.plot(epochs, test_top1, marker='o', label='Test Top-1 Accuracy')\n",
    "# plt.xlabel('Epoch')\n",
    "# plt.ylabel('Top-1 Accuracy')\n",
    "# plt.title('Train vs Test Top-1 Accuracy')\n",
    "# plt.legend()\n",
    "# plt.grid(True)\n",
    "# plt.show()\n"
   ]
  },
  {
   "cell_type": "code",
   "execution_count": null,
   "metadata": {},
   "outputs": [],
   "source": [
    "# Set up the retrieval index\n",
    "index = tfrs.layers.factorized_top_k.BruteForce(model.boardgame_model)\n",
    "index.index_from_dataset(\n",
    "    candidate_dataset.map(lambda x: (x[\"game_id\"], model.boardgame_model(x[\"features\"])))\n",
    ")\n"
   ]
  },
  {
   "cell_type": "code",
   "execution_count": null,
   "metadata": {},
   "outputs": [],
   "source": [
    "feature_list.append('name')\n"
   ]
  },
  {
   "cell_type": "code",
   "execution_count": null,
   "metadata": {},
   "outputs": [],
   "source": [
    "feature_list"
   ]
  },
  {
   "cell_type": "code",
   "execution_count": null,
   "metadata": {},
   "outputs": [],
   "source": [
    "\n",
    "df_input = df_complete[feature_list]\n",
    "df_input.head()"
   ]
  },
  {
   "cell_type": "code",
   "execution_count": null,
   "metadata": {},
   "outputs": [],
   "source": [
    "user_input = 'Cascadia'\n",
    "user_input_game_id = df_complete.loc[df_complete['name'] == user_input, 'game_id'].values\n",
    "user_input_game_id"
   ]
  },
  {
   "cell_type": "code",
   "execution_count": null,
   "metadata": {},
   "outputs": [],
   "source": [
    "\n",
    "query_features = np.array(df_input[df_input['name'] == user_input].iloc[:, 0:-1].values.tolist())"
   ]
  },
  {
   "cell_type": "code",
   "execution_count": null,
   "metadata": {},
   "outputs": [],
   "source": [
    "scores, recommended_game_ids = index(query_features, k=10)\n",
    "recommended_game_ids.numpy()"
   ]
  },
  {
   "cell_type": "code",
   "execution_count": null,
   "metadata": {},
   "outputs": [],
   "source": [
    "scores"
   ]
  },
  {
   "cell_type": "code",
   "execution_count": null,
   "metadata": {},
   "outputs": [],
   "source": [
    "filtered_recommendations_ids = recommended_game_ids[recommended_game_ids != user_input_game_id]"
   ]
  },
  {
   "cell_type": "code",
   "execution_count": null,
   "metadata": {},
   "outputs": [],
   "source": [
    "game_names = df_merged.loc[\n",
    "    df_merged[\"game_id\"].isin(filtered_recommendations_ids.numpy()),\n",
    "    \"game_name\"\n",
    "]\n",
    "game_names"
   ]
  },
  {
   "cell_type": "code",
   "execution_count": null,
   "metadata": {},
   "outputs": [],
   "source": [
    "print(\"Recommended Boardgames:\", filtered_recommendations_ids.numpy())"
   ]
  },
  {
   "cell_type": "code",
   "execution_count": null,
   "metadata": {},
   "outputs": [],
   "source": [
    "# Assume df_features and df_ids are your complete candidate features and ids.\n",
    "# Create a raw candidate dataset (unbatched).\n",
    "raw_candidate_ds = tf.data.Dataset.from_tensor_slices({\n",
    "    \"features\": df_features.to_numpy().astype(\"float32\"),\n",
    "    \"game_id\": df_game_ids.to_numpy().astype(\"int32\")\n",
    "}).map(lambda x: (x[\"features\"], x[\"game_id\"]))\n",
    "\n",
    "# Batch the candidate dataset uniformly.\n",
    "candidate_embeddings_ds = raw_candidate_ds.batch(1024, drop_remainder=True).map(\n",
    "    lambda features_batch, id_batch: (model.boardgame_model(features_batch), id_batch)\n",
    ")\n",
    "\n",
    "# Collect all candidate embeddings into one tensor.\n",
    "all_candidate_embeddings = []\n",
    "all_candidate_ids = []\n",
    "for embeddings, ids in candidate_embeddings_ds:\n",
    "    all_candidate_embeddings.append(embeddings)\n",
    "    all_candidate_ids.append(ids)\n",
    "\n",
    "combined_candidate_embeddings = tf.concat(all_candidate_embeddings, axis=0)\n",
    "combined_candidate_ids = tf.concat(all_candidate_ids, axis=0)\n",
    "\n",
    "# Compute the query embedding (assume query_features has shape (1, 5)).\n",
    "query_embedding = model.boardgame_model(query_features)  # shape: (1, embedding_dim)\n",
    "\n",
    "# Compute similarity scores (dot product) between the query and all candidate embeddings.\n",
    "# This produces a (1, num_candidates) tensor.\n",
    "scores = tf.matmul(query_embedding, combined_candidate_embeddings, transpose_b=True)\n",
    "scores = tf.squeeze(scores)  # shape: (num_candidates,)\n",
    "\n",
    "# Optionally, sort to get top-k recommendations:\n",
    "top_k = tf.math.top_k(scores, k=10)\n",
    "top_candidate_ids = tf.gather(combined_candidate_ids, top_k.indices)\n",
    "top_candidate_ids = top_candidate_ids[top_candidate_ids != user_input_game_id]\n",
    "\n",
    "print(\"Top candidate IDs:\", top_candidate_ids.numpy())\n",
    "print(\"Top scores:\", top_k.values.numpy())\n",
    "\n",
    "# Plot the distribution of similarity scores.\n",
    "plt.figure(figsize=(8, 6))\n",
    "plt.hist(scores.numpy(), bins=50, edgecolor=\"k\")\n",
    "plt.xlabel(\"Similarity Score\")\n",
    "plt.ylabel(\"Frequency\")\n",
    "plt.title(\"Distribution of Similarity Scores for Query\")\n",
    "plt.show()\n"
   ]
  },
  {
   "cell_type": "code",
   "execution_count": null,
   "metadata": {},
   "outputs": [],
   "source": [
    "# Manually create query features with features from 5 different boardgames\n",
    "\n",
    "query_features = np.array([[8.58304e+00, 5.02260e+04, 1.20000e+02, 3.87170e+00],[8.52011e+00, 5.49990e+04, 6.00000e+01, 2.83080e+00],\n",
    "                           [8.53508e+00, 4.98110e+04, 1.50000e+02, 3.77710e+00],[8.5711e+00, 6.4138e+04, 1.2000e+02, 3.9127e+00],\n",
    "                           [8.58275e+00, 2.54200e+04, 4.80000e+02, 4.32960e+00]])\n",
    "query_features"
   ]
  },
  {
   "cell_type": "code",
   "execution_count": null,
   "metadata": {},
   "outputs": [],
   "source": [
    "# Compute individual embeddings from the manually generated multiple games feature query\n",
    "query_embeddings = model.boardgame_model(query_features)\n",
    "\n",
    "# Aggregate individual embeddings byy average\n",
    "aggregated_query_embedding = tf.reduce_mean(query_embeddings, axis=0, keepdims=True)\n",
    "\n",
    "# Compute similarity scores using the aggregated query embedding.\n",
    "scores = tf.matmul(aggregated_query_embedding, combined_candidate_embeddings, transpose_b=True)\n",
    "scores = tf.squeeze(scores)  \n",
    "\n",
    "# Get top-k recommendations (indices with highest similarity).\n",
    "top_k = tf.math.top_k(scores, k=10)\n",
    "print(\"Top scores:\", top_k.values.numpy())\n",
    "print(\"Indices of top candidates:\", top_k.indices.numpy())\n",
    "\n",
    "# Instead of using top_k.indices directly as game IDs, map them to actual game IDs:\n",
    "recommended_game_ids = tf.gather(combined_candidate_ids, top_k.indices)\n",
    "print(\"Recommended game IDs:\", recommended_game_ids.numpy())\n",
    "\n",
    "# Build a dictionary mapping from game_id to game_name.\n",
    "game_id_to_name = dict(zip(df_merged[\"game_id\"], df_merged[\"game_name\"]))\n",
    "\n",
    "# Use list comprehension to retrieve names in the order of recommended_game_ids.\n",
    "ordered_game_names = [game_id_to_name[game_id] for game_id in recommended_game_ids.numpy()]\n",
    "print(\"Ordered recommended game names:\", ordered_game_names)\n"
   ]
  }
 ],
 "metadata": {
  "kernelspec": {
   "display_name": ".venv",
   "language": "python",
   "name": "python3"
  },
  "language_info": {
   "codemirror_mode": {
    "name": "ipython",
    "version": 3
   },
   "file_extension": ".py",
   "mimetype": "text/x-python",
   "name": "python",
   "nbconvert_exporter": "python",
   "pygments_lexer": "ipython3",
   "version": "3.11.3"
  }
 },
 "nbformat": 4,
 "nbformat_minor": 2
}
