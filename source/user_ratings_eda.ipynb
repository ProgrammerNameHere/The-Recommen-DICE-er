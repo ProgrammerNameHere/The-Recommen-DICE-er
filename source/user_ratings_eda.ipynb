{
 "cells": [
  {
   "cell_type": "markdown",
   "metadata": {},
   "source": [
    "# User ratings EDA\n",
    "We found a data set containing the BoardGameGeeks user ratings as of May2019 on Kaggle: [boardgame ratings on kaggle](https://www.kaggle.com/datasets/thedevastator/board-game-ratings-by-country)  \n",
    "\n",
    "The data archive contains the following csv files:\n",
    "* 2019-05-02.csv\n",
    "* bggreviews_small.csv\n",
    "* games_detailed_info.xlsx\n",
    "* games_detailed_info_filtered.csv\n",
    "* popular_board_game.csv\n",
    "* users.csv"
   ]
  },
  {
   "cell_type": "code",
   "execution_count": 30,
   "metadata": {},
   "outputs": [],
   "source": [
    "# import setup\n",
    "from setup import *"
   ]
  },
  {
   "cell_type": "code",
   "execution_count": 31,
   "metadata": {},
   "outputs": [],
   "source": [
    "# function for reading the dataset and displaying some basic information\n",
    "def read_and_explore(file , df_name, path= '../data/'):\n",
    "    dataframe = pd.read_csv(path+file)\n",
    "    print('The dataframe', df_name,'has', dataframe.shape[0], 'rows and',  dataframe.shape[1],'columns')\n",
    "    for column in dataframe.columns:\n",
    "        print('Column', column,'has', dataframe[column].nunique(), 'unique values')\n",
    "    print('Missing values in columns:')\n",
    "    print(dataframe.isna().sum())\n",
    "    return dataframe"
   ]
  },
  {
   "cell_type": "markdown",
   "metadata": {},
   "source": [
    "File 2019-05-02.csv contains information (ID, Name, Year, Rank, Average, Bayes average, Users rated, URL, and Thumbnail) of 17065 games. \n",
    "Not needed."
   ]
  },
  {
   "cell_type": "code",
   "execution_count": 32,
   "metadata": {},
   "outputs": [
    {
     "name": "stdout",
     "output_type": "stream",
     "text": [
      "The dataframe df_2019 has 17065 rows and 9 columns\n",
      "Column ID has 17065 unique values\n",
      "Column Name has 16735 unique values\n",
      "Column Year has 182 unique values\n",
      "Column Rank has 17065 unique values\n",
      "Column Average has 602 unique values\n",
      "Column Bayes average has 1872 unique values\n",
      "Column Users rated has 2622 unique values\n",
      "Column URL has 17065 unique values\n",
      "Column Thumbnail has 17016 unique values\n",
      "Missing values in columns:\n",
      "ID                0\n",
      "Name              0\n",
      "Year              0\n",
      "Rank              0\n",
      "Average           0\n",
      "Bayes average     0\n",
      "Users rated       0\n",
      "URL               0\n",
      "Thumbnail        45\n",
      "dtype: int64\n"
     ]
    },
    {
     "data": {
      "text/html": [
       "<div>\n",
       "<style scoped>\n",
       "    .dataframe tbody tr th:only-of-type {\n",
       "        vertical-align: middle;\n",
       "    }\n",
       "\n",
       "    .dataframe tbody tr th {\n",
       "        vertical-align: top;\n",
       "    }\n",
       "\n",
       "    .dataframe thead th {\n",
       "        text-align: right;\n",
       "    }\n",
       "</style>\n",
       "<table border=\"1\" class=\"dataframe\">\n",
       "  <thead>\n",
       "    <tr style=\"text-align: right;\">\n",
       "      <th></th>\n",
       "      <th>ID</th>\n",
       "      <th>Name</th>\n",
       "      <th>Year</th>\n",
       "      <th>Rank</th>\n",
       "      <th>Average</th>\n",
       "      <th>Bayes average</th>\n",
       "      <th>Users rated</th>\n",
       "      <th>URL</th>\n",
       "      <th>Thumbnail</th>\n",
       "    </tr>\n",
       "  </thead>\n",
       "  <tbody>\n",
       "    <tr>\n",
       "      <th>0</th>\n",
       "      <td>174430</td>\n",
       "      <td>Gloomhaven</td>\n",
       "      <td>2017</td>\n",
       "      <td>1</td>\n",
       "      <td>8.90</td>\n",
       "      <td>8.611</td>\n",
       "      <td>24574</td>\n",
       "      <td>/boardgame/174430/gloomhaven</td>\n",
       "      <td>https://cf.geekdo-images.com/micro/img/8JYMPXd...</td>\n",
       "    </tr>\n",
       "    <tr>\n",
       "      <th>1</th>\n",
       "      <td>161936</td>\n",
       "      <td>Pandemic Legacy: Season 1</td>\n",
       "      <td>2015</td>\n",
       "      <td>2</td>\n",
       "      <td>8.64</td>\n",
       "      <td>8.489</td>\n",
       "      <td>30921</td>\n",
       "      <td>/boardgame/161936/pandemic-legacy-season-1</td>\n",
       "      <td>https://cf.geekdo-images.com/micro/img/KbAKyhb...</td>\n",
       "    </tr>\n",
       "    <tr>\n",
       "      <th>2</th>\n",
       "      <td>182028</td>\n",
       "      <td>Through the Ages: A New Story of Civilization</td>\n",
       "      <td>2015</td>\n",
       "      <td>3</td>\n",
       "      <td>8.53</td>\n",
       "      <td>8.258</td>\n",
       "      <td>15551</td>\n",
       "      <td>/boardgame/182028/through-ages-new-story-civil...</td>\n",
       "      <td>https://cf.geekdo-images.com/micro/img/APvZ_BY...</td>\n",
       "    </tr>\n",
       "    <tr>\n",
       "      <th>3</th>\n",
       "      <td>167791</td>\n",
       "      <td>Terraforming Mars</td>\n",
       "      <td>2016</td>\n",
       "      <td>4</td>\n",
       "      <td>8.40</td>\n",
       "      <td>8.242</td>\n",
       "      <td>38331</td>\n",
       "      <td>/boardgame/167791/terraforming-mars</td>\n",
       "      <td>https://cf.geekdo-images.com/micro/img/71v8jF5...</td>\n",
       "    </tr>\n",
       "    <tr>\n",
       "      <th>4</th>\n",
       "      <td>12333</td>\n",
       "      <td>Twilight Struggle</td>\n",
       "      <td>2005</td>\n",
       "      <td>5</td>\n",
       "      <td>8.33</td>\n",
       "      <td>8.175</td>\n",
       "      <td>34268</td>\n",
       "      <td>/boardgame/12333/twilight-struggle</td>\n",
       "      <td>https://cf.geekdo-images.com/micro/img/uStZr7_...</td>\n",
       "    </tr>\n",
       "  </tbody>\n",
       "</table>\n",
       "</div>"
      ],
      "text/plain": [
       "       ID                                           Name  Year  Rank  Average   \n",
       "0  174430                                     Gloomhaven  2017     1     8.90  \\\n",
       "1  161936                      Pandemic Legacy: Season 1  2015     2     8.64   \n",
       "2  182028  Through the Ages: A New Story of Civilization  2015     3     8.53   \n",
       "3  167791                              Terraforming Mars  2016     4     8.40   \n",
       "4   12333                              Twilight Struggle  2005     5     8.33   \n",
       "\n",
       "   Bayes average  Users rated   \n",
       "0          8.611        24574  \\\n",
       "1          8.489        30921   \n",
       "2          8.258        15551   \n",
       "3          8.242        38331   \n",
       "4          8.175        34268   \n",
       "\n",
       "                                                 URL   \n",
       "0                       /boardgame/174430/gloomhaven  \\\n",
       "1         /boardgame/161936/pandemic-legacy-season-1   \n",
       "2  /boardgame/182028/through-ages-new-story-civil...   \n",
       "3                /boardgame/167791/terraforming-mars   \n",
       "4                 /boardgame/12333/twilight-struggle   \n",
       "\n",
       "                                           Thumbnail  \n",
       "0  https://cf.geekdo-images.com/micro/img/8JYMPXd...  \n",
       "1  https://cf.geekdo-images.com/micro/img/KbAKyhb...  \n",
       "2  https://cf.geekdo-images.com/micro/img/APvZ_BY...  \n",
       "3  https://cf.geekdo-images.com/micro/img/71v8jF5...  \n",
       "4  https://cf.geekdo-images.com/micro/img/uStZr7_...  "
      ]
     },
     "execution_count": 32,
     "metadata": {},
     "output_type": "execute_result"
    }
   ],
   "source": [
    "df_2019 = read_and_explore(file='2019-05-02.csv', df_name='df_2019')\n",
    "df_2019.head()\n"
   ]
  },
  {
   "cell_type": "markdown",
   "metadata": {},
   "source": [
    "File users.csv contains information (users, url, country) of 289914 users. \n",
    "Country could be used for filtering to reduce number of users and ratings"
   ]
  },
  {
   "cell_type": "code",
   "execution_count": 33,
   "metadata": {},
   "outputs": [
    {
     "name": "stdout",
     "output_type": "stream",
     "text": [
      "The dataframe df_users has 289914 rows and 3 columns\n",
      "Column users has 289913 unique values\n",
      "Column url has 289914 unique values\n",
      "Column country has 226 unique values\n",
      "Missing values in columns:\n",
      "users          1\n",
      "url            0\n",
      "country    72873\n",
      "dtype: int64\n"
     ]
    },
    {
     "data": {
      "text/html": [
       "<div>\n",
       "<style scoped>\n",
       "    .dataframe tbody tr th:only-of-type {\n",
       "        vertical-align: middle;\n",
       "    }\n",
       "\n",
       "    .dataframe tbody tr th {\n",
       "        vertical-align: top;\n",
       "    }\n",
       "\n",
       "    .dataframe thead th {\n",
       "        text-align: right;\n",
       "    }\n",
       "</style>\n",
       "<table border=\"1\" class=\"dataframe\">\n",
       "  <thead>\n",
       "    <tr style=\"text-align: right;\">\n",
       "      <th></th>\n",
       "      <th>users</th>\n",
       "      <th>url</th>\n",
       "      <th>country</th>\n",
       "    </tr>\n",
       "  </thead>\n",
       "  <tbody>\n",
       "    <tr>\n",
       "      <th>0</th>\n",
       "      <td>sidehacker</td>\n",
       "      <td>https://boardgamegeek.com/user/sidehacker</td>\n",
       "      <td>United States</td>\n",
       "    </tr>\n",
       "    <tr>\n",
       "      <th>1</th>\n",
       "      <td>Varthlokkur</td>\n",
       "      <td>https://boardgamegeek.com/user/Varthlokkur</td>\n",
       "      <td>United States</td>\n",
       "    </tr>\n",
       "    <tr>\n",
       "      <th>2</th>\n",
       "      <td>dougthonus</td>\n",
       "      <td>https://boardgamegeek.com/user/dougthonus</td>\n",
       "      <td>United States</td>\n",
       "    </tr>\n",
       "    <tr>\n",
       "      <th>3</th>\n",
       "      <td>cypar7</td>\n",
       "      <td>https://boardgamegeek.com/user/cypar7</td>\n",
       "      <td>United States</td>\n",
       "    </tr>\n",
       "    <tr>\n",
       "      <th>4</th>\n",
       "      <td>ssmooth</td>\n",
       "      <td>https://boardgamegeek.com/user/ssmooth</td>\n",
       "      <td>United States</td>\n",
       "    </tr>\n",
       "  </tbody>\n",
       "</table>\n",
       "</div>"
      ],
      "text/plain": [
       "         users                                         url        country\n",
       "0   sidehacker   https://boardgamegeek.com/user/sidehacker  United States\n",
       "1  Varthlokkur  https://boardgamegeek.com/user/Varthlokkur  United States\n",
       "2   dougthonus   https://boardgamegeek.com/user/dougthonus  United States\n",
       "3       cypar7       https://boardgamegeek.com/user/cypar7  United States\n",
       "4      ssmooth      https://boardgamegeek.com/user/ssmooth  United States"
      ]
     },
     "execution_count": 33,
     "metadata": {},
     "output_type": "execute_result"
    }
   ],
   "source": [
    "df_users = read_and_explore(file='users.csv', df_name='df_users')\n",
    "# print(df_users['country'].unique())\n",
    "df_users.head()\n"
   ]
  },
  {
   "cell_type": "markdown",
   "metadata": {},
   "source": [
    "File bggreviews_small.csv contains 13 million ratings for 17.000 games from 290.000 users. This is the file we need.  \n",
    "66 rows with missing user need to be dropped."
   ]
  },
  {
   "cell_type": "code",
   "execution_count": 34,
   "metadata": {},
   "outputs": [
    {
     "name": "stdout",
     "output_type": "stream",
     "text": [
      "The dataframe df_bgg_small has 13170073 rows and 3 columns\n",
      "Column user has 289913 unique values\n",
      "Column rating has 8202 unique values\n",
      "Column ID has 17065 unique values\n",
      "Missing values in columns:\n",
      "user      66\n",
      "rating     0\n",
      "ID         0\n",
      "dtype: int64\n"
     ]
    },
    {
     "data": {
      "text/html": [
       "<div>\n",
       "<style scoped>\n",
       "    .dataframe tbody tr th:only-of-type {\n",
       "        vertical-align: middle;\n",
       "    }\n",
       "\n",
       "    .dataframe tbody tr th {\n",
       "        vertical-align: top;\n",
       "    }\n",
       "\n",
       "    .dataframe thead th {\n",
       "        text-align: right;\n",
       "    }\n",
       "</style>\n",
       "<table border=\"1\" class=\"dataframe\">\n",
       "  <thead>\n",
       "    <tr style=\"text-align: right;\">\n",
       "      <th></th>\n",
       "      <th>user</th>\n",
       "      <th>rating</th>\n",
       "      <th>ID</th>\n",
       "    </tr>\n",
       "  </thead>\n",
       "  <tbody>\n",
       "    <tr>\n",
       "      <th>0</th>\n",
       "      <td>sidehacker</td>\n",
       "      <td>10.0</td>\n",
       "      <td>13</td>\n",
       "    </tr>\n",
       "    <tr>\n",
       "      <th>1</th>\n",
       "      <td>Varthlokkur</td>\n",
       "      <td>10.0</td>\n",
       "      <td>13</td>\n",
       "    </tr>\n",
       "    <tr>\n",
       "      <th>2</th>\n",
       "      <td>dougthonus</td>\n",
       "      <td>10.0</td>\n",
       "      <td>13</td>\n",
       "    </tr>\n",
       "    <tr>\n",
       "      <th>3</th>\n",
       "      <td>cypar7</td>\n",
       "      <td>10.0</td>\n",
       "      <td>13</td>\n",
       "    </tr>\n",
       "    <tr>\n",
       "      <th>4</th>\n",
       "      <td>ssmooth</td>\n",
       "      <td>10.0</td>\n",
       "      <td>13</td>\n",
       "    </tr>\n",
       "  </tbody>\n",
       "</table>\n",
       "</div>"
      ],
      "text/plain": [
       "          user  rating  ID\n",
       "0   sidehacker    10.0  13\n",
       "1  Varthlokkur    10.0  13\n",
       "2   dougthonus    10.0  13\n",
       "3       cypar7    10.0  13\n",
       "4      ssmooth    10.0  13"
      ]
     },
     "execution_count": 34,
     "metadata": {},
     "output_type": "execute_result"
    }
   ],
   "source": [
    "# read data from csv files\n",
    "df_bgg_small = read_and_explore(file='bggreviews_small.csv', df_name='df_bgg_small')\n",
    "df_bgg_small.head()"
   ]
  },
  {
   "cell_type": "code",
   "execution_count": 35,
   "metadata": {},
   "outputs": [
    {
     "data": {
      "text/html": [
       "<div>\n",
       "<style scoped>\n",
       "    .dataframe tbody tr th:only-of-type {\n",
       "        vertical-align: middle;\n",
       "    }\n",
       "\n",
       "    .dataframe tbody tr th {\n",
       "        vertical-align: top;\n",
       "    }\n",
       "\n",
       "    .dataframe thead th {\n",
       "        text-align: right;\n",
       "    }\n",
       "</style>\n",
       "<table border=\"1\" class=\"dataframe\">\n",
       "  <thead>\n",
       "    <tr style=\"text-align: right;\">\n",
       "      <th></th>\n",
       "      <th>user</th>\n",
       "      <th>rating</th>\n",
       "      <th>game_id</th>\n",
       "    </tr>\n",
       "  </thead>\n",
       "  <tbody>\n",
       "    <tr>\n",
       "      <th>0</th>\n",
       "      <td>sidehacker</td>\n",
       "      <td>10.0</td>\n",
       "      <td>13</td>\n",
       "    </tr>\n",
       "    <tr>\n",
       "      <th>1</th>\n",
       "      <td>Varthlokkur</td>\n",
       "      <td>10.0</td>\n",
       "      <td>13</td>\n",
       "    </tr>\n",
       "    <tr>\n",
       "      <th>2</th>\n",
       "      <td>dougthonus</td>\n",
       "      <td>10.0</td>\n",
       "      <td>13</td>\n",
       "    </tr>\n",
       "    <tr>\n",
       "      <th>3</th>\n",
       "      <td>cypar7</td>\n",
       "      <td>10.0</td>\n",
       "      <td>13</td>\n",
       "    </tr>\n",
       "    <tr>\n",
       "      <th>4</th>\n",
       "      <td>ssmooth</td>\n",
       "      <td>10.0</td>\n",
       "      <td>13</td>\n",
       "    </tr>\n",
       "  </tbody>\n",
       "</table>\n",
       "</div>"
      ],
      "text/plain": [
       "          user  rating  game_id\n",
       "0   sidehacker    10.0       13\n",
       "1  Varthlokkur    10.0       13\n",
       "2   dougthonus    10.0       13\n",
       "3       cypar7    10.0       13\n",
       "4      ssmooth    10.0       13"
      ]
     },
     "execution_count": 35,
     "metadata": {},
     "output_type": "execute_result"
    }
   ],
   "source": [
    "#rename: ID = game_id\n",
    "df_user_ratings_ = df_bgg_small.copy()\n",
    "df_user_ratings_.rename(columns={'ID':'game_id'}, inplace=True)\n",
    "df_user_ratings_.head()"
   ]
  },
  {
   "cell_type": "code",
   "execution_count": 36,
   "metadata": {},
   "outputs": [
    {
     "data": {
      "text/html": [
       "<div>\n",
       "<style scoped>\n",
       "    .dataframe tbody tr th:only-of-type {\n",
       "        vertical-align: middle;\n",
       "    }\n",
       "\n",
       "    .dataframe tbody tr th {\n",
       "        vertical-align: top;\n",
       "    }\n",
       "\n",
       "    .dataframe thead th {\n",
       "        text-align: right;\n",
       "    }\n",
       "</style>\n",
       "<table border=\"1\" class=\"dataframe\">\n",
       "  <thead>\n",
       "    <tr style=\"text-align: right;\">\n",
       "      <th></th>\n",
       "      <th>user</th>\n",
       "      <th>rating</th>\n",
       "      <th>game_id</th>\n",
       "    </tr>\n",
       "  </thead>\n",
       "  <tbody>\n",
       "    <tr>\n",
       "      <th>63824</th>\n",
       "      <td>NaN</td>\n",
       "      <td>6.0</td>\n",
       "      <td>13</td>\n",
       "    </tr>\n",
       "    <tr>\n",
       "      <th>164185</th>\n",
       "      <td>NaN</td>\n",
       "      <td>5.0</td>\n",
       "      <td>822</td>\n",
       "    </tr>\n",
       "    <tr>\n",
       "      <th>383996</th>\n",
       "      <td>NaN</td>\n",
       "      <td>5.0</td>\n",
       "      <td>36218</td>\n",
       "    </tr>\n",
       "    <tr>\n",
       "      <th>447312</th>\n",
       "      <td>NaN</td>\n",
       "      <td>4.0</td>\n",
       "      <td>9209</td>\n",
       "    </tr>\n",
       "    <tr>\n",
       "      <th>547228</th>\n",
       "      <td>NaN</td>\n",
       "      <td>7.0</td>\n",
       "      <td>3076</td>\n",
       "    </tr>\n",
       "  </tbody>\n",
       "</table>\n",
       "</div>"
      ],
      "text/plain": [
       "       user  rating  game_id\n",
       "63824   NaN     6.0       13\n",
       "164185  NaN     5.0      822\n",
       "383996  NaN     5.0    36218\n",
       "447312  NaN     4.0     9209\n",
       "547228  NaN     7.0     3076"
      ]
     },
     "execution_count": 36,
     "metadata": {},
     "output_type": "execute_result"
    }
   ],
   "source": [
    "# check missing values\n",
    "missing_user = df_user_ratings_[df_user_ratings_.isna().any(axis=1)]\n",
    "missing_user.head()\n"
   ]
  },
  {
   "cell_type": "code",
   "execution_count": 37,
   "metadata": {},
   "outputs": [
    {
     "name": "stdout",
     "output_type": "stream",
     "text": [
      "The dataframe has 13170007 rows and 3 columns\n",
      "Missing values in columns:\n",
      "user       0\n",
      "rating     0\n",
      "game_id    0\n",
      "dtype: int64\n"
     ]
    }
   ],
   "source": [
    "# drop rows with missing username\n",
    "df_user_ratings = df_user_ratings_.dropna().reset_index(drop=True)\n",
    "print('The dataframe has', df_user_ratings.shape[0], 'rows and',  df_user_ratings.shape[1],'columns')\n",
    "print('Missing values in columns:')\n",
    "print(df_user_ratings.isna().sum())\n"
   ]
  },
  {
   "cell_type": "code",
   "execution_count": 38,
   "metadata": {},
   "outputs": [],
   "source": [
    "df_user_ratings.to_csv('../data/user_ratings.csv')"
   ]
  },
  {
   "cell_type": "markdown",
   "metadata": {},
   "source": [
    "### Filter user ratings to keep only those for games that are ranked > 0"
   ]
  },
  {
   "cell_type": "code",
   "execution_count": null,
   "metadata": {},
   "outputs": [
    {
     "data": {
      "text/plain": [
       "(27925, 16)"
      ]
     },
     "execution_count": 39,
     "metadata": {},
     "output_type": "execute_result"
    }
   ],
   "source": [
    "# import the data with filter on rank >0\n",
    "df_names = pd.read_csv('../data/boardgames_ranks.csv').query('rank > 0')\n",
    "df_names.shape"
   ]
  },
  {
   "cell_type": "code",
   "execution_count": 48,
   "metadata": {},
   "outputs": [
    {
     "name": "stdout",
     "output_type": "stream",
     "text": [
      "(13162663, 3)\n"
     ]
    },
    {
     "data": {
      "text/html": [
       "<div>\n",
       "<style scoped>\n",
       "    .dataframe tbody tr th:only-of-type {\n",
       "        vertical-align: middle;\n",
       "    }\n",
       "\n",
       "    .dataframe tbody tr th {\n",
       "        vertical-align: top;\n",
       "    }\n",
       "\n",
       "    .dataframe thead th {\n",
       "        text-align: right;\n",
       "    }\n",
       "</style>\n",
       "<table border=\"1\" class=\"dataframe\">\n",
       "  <thead>\n",
       "    <tr style=\"text-align: right;\">\n",
       "      <th></th>\n",
       "      <th>user</th>\n",
       "      <th>rating</th>\n",
       "      <th>game_id</th>\n",
       "    </tr>\n",
       "  </thead>\n",
       "  <tbody>\n",
       "    <tr>\n",
       "      <th>13162658</th>\n",
       "      <td>pswissler</td>\n",
       "      <td>3.0</td>\n",
       "      <td>8256</td>\n",
       "    </tr>\n",
       "    <tr>\n",
       "      <th>13162659</th>\n",
       "      <td>Sprayoncrayon</td>\n",
       "      <td>3.0</td>\n",
       "      <td>8256</td>\n",
       "    </tr>\n",
       "    <tr>\n",
       "      <th>13162660</th>\n",
       "      <td>PhoenixSong</td>\n",
       "      <td>2.5</td>\n",
       "      <td>8256</td>\n",
       "    </tr>\n",
       "    <tr>\n",
       "      <th>13162661</th>\n",
       "      <td>tsantos</td>\n",
       "      <td>2.0</td>\n",
       "      <td>8256</td>\n",
       "    </tr>\n",
       "    <tr>\n",
       "      <th>13162662</th>\n",
       "      <td>Mighty Florist</td>\n",
       "      <td>2.0</td>\n",
       "      <td>8256</td>\n",
       "    </tr>\n",
       "  </tbody>\n",
       "</table>\n",
       "</div>"
      ],
      "text/plain": [
       "                    user  rating  game_id\n",
       "13162658       pswissler     3.0     8256\n",
       "13162659   Sprayoncrayon     3.0     8256\n",
       "13162660     PhoenixSong     2.5     8256\n",
       "13162661         tsantos     2.0     8256\n",
       "13162662  Mighty Florist     2.0     8256"
      ]
     },
     "execution_count": 48,
     "metadata": {},
     "output_type": "execute_result"
    }
   ],
   "source": [
    "# keep only ratings for games that are in the 30000 selected \n",
    "user_ratings_small = df_user_ratings[df_user_ratings['game_id'].isin(df_names['id'])].reset_index(drop=True)\n",
    "print(user_ratings_small.shape)\n",
    "user_ratings_small.tail()"
   ]
  },
  {
   "cell_type": "code",
   "execution_count": 49,
   "metadata": {},
   "outputs": [
    {
     "name": "stdout",
     "output_type": "stream",
     "text": [
      "The dataframe has 13162663 rows and 3 columns\n",
      "Column user has 289870 unique values\n",
      "Column rating has 8196 unique values\n",
      "Column game_id has 16999 unique values\n",
      "Missing values in columns:\n",
      "user       0\n",
      "rating     0\n",
      "game_id    0\n",
      "dtype: int64\n"
     ]
    }
   ],
   "source": [
    "# new dataset\n",
    "print('The dataframe has', user_ratings_small.shape[0], 'rows and',  user_ratings_small.shape[1],'columns')\n",
    "for column in user_ratings_small.columns:\n",
    "    print('Column', column,'has', user_ratings_small[column].nunique(), 'unique values')\n",
    "print('Missing values in columns:')\n",
    "print(user_ratings_small.isna().sum())"
   ]
  },
  {
   "cell_type": "code",
   "execution_count": 50,
   "metadata": {},
   "outputs": [
    {
     "name": "stdout",
     "output_type": "stream",
     "text": [
      "The dataframe has 13170007 rows and 3 columns\n",
      "Column user has 289913 unique values\n",
      "Column rating has 8202 unique values\n",
      "Column game_id has 17065 unique values\n",
      "Missing values in columns:\n",
      "user       0\n",
      "rating     0\n",
      "game_id    0\n",
      "dtype: int64\n"
     ]
    }
   ],
   "source": [
    "# old dataset for comparison\n",
    "print('The dataframe has', df_user_ratings.shape[0], 'rows and',  df_user_ratings.shape[1],'columns')\n",
    "for column in df_user_ratings.columns:\n",
    "    print('Column', column,'has', df_user_ratings[column].nunique(), 'unique values')\n",
    "print('Missing values in columns:')\n",
    "print(df_user_ratings.isna().sum())"
   ]
  },
  {
   "cell_type": "markdown",
   "metadata": {},
   "source": [
    "__old:__  \n",
    "The dataframe has 13170007 rows and 3 columns  \n",
    "Column user has 289913 unique values  \n",
    "Column rating has 8202 unique values  \n",
    "Column game_id has 17065 unique values  \n",
    "Missing values in columns:\n",
    "user       0\n",
    "rating     0\n",
    "game_id    0\n",
    "dtype: int64\n",
    "\n",
    "__new:__ \n",
    "The dataframe has 13162663 rows and 3 columns  \n",
    "Column user has 289870 unique values  \n",
    "Column rating has 8196 unique values  \n",
    "Column game_id has 16999 unique values  \n",
    "Missing values in columns:\n",
    "user       0\n",
    "rating     0\n",
    "game_id    0\n",
    "dtype: int64  "
   ]
  },
  {
   "cell_type": "code",
   "execution_count": null,
   "metadata": {},
   "outputs": [],
   "source": [
    "# write to user_ratings_small to csv\n",
    "user_ratings_small.to_csv('../data/user_ratings_small.csv', index= False)"
   ]
  }
 ],
 "metadata": {
  "kernelspec": {
   "display_name": ".venv",
   "language": "python",
   "name": "python3"
  },
  "language_info": {
   "codemirror_mode": {
    "name": "ipython",
    "version": 3
   },
   "file_extension": ".py",
   "mimetype": "text/x-python",
   "name": "python",
   "nbconvert_exporter": "python",
   "pygments_lexer": "ipython3",
   "version": "3.11.3"
  }
 },
 "nbformat": 4,
 "nbformat_minor": 2
}
