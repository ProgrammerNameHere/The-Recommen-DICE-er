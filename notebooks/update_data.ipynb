{
 "cells": [
  {
   "cell_type": "markdown",
   "metadata": {},
   "source": [
    "# This is my Notebook to test collecting the data with the BGG API"
   ]
  },
  {
   "cell_type": "markdown",
   "metadata": {},
   "source": [
    "## Setup"
   ]
  },
  {
   "cell_type": "code",
   "execution_count": 1,
   "metadata": {},
   "outputs": [],
   "source": [
    "import requests\n",
    "import pandas as pd\n",
    "import xmltodict\n",
    "import time\n"
   ]
  },
  {
   "cell_type": "markdown",
   "metadata": {},
   "source": [
    "## Import data"
   ]
  },
  {
   "cell_type": "code",
   "execution_count": 2,
   "metadata": {},
   "outputs": [
    {
     "data": {
      "text/plain": [
       "27925"
      ]
     },
     "execution_count": 2,
     "metadata": {},
     "output_type": "execute_result"
    }
   ],
   "source": [
    "url_things = 'https://boardgamegeek.com/xmlapi2/thing?'\n",
    "\n",
    "all_games_ranked = pd.read_csv('data/boardgames_ranks.csv').query('rank > 0')\n",
    "game_ids = all_games_ranked['id'].sort_values()\n",
    "len(game_ids)"
   ]
  },
  {
   "cell_type": "code",
   "execution_count": 3,
   "metadata": {},
   "outputs": [],
   "source": [
    "\n",
    "try:\n",
    "    game_details = pd.read_csv('data/game_details_raw.csv')\n",
    "except:\n",
    "    game_details = pd.DataFrame(columns=['game_id',\n",
    "                                        #'alt_name', # maybe include, so the searching goes easier\n",
    "                                        'description',\n",
    "                                        #'yearpublished',\n",
    "                                        'minplayers',\n",
    "                                        'maxplayers',\n",
    "                                        'community_best_with',\n",
    "                                        'community_recommended_with',\n",
    "                                        'playingtime',\n",
    "                                        'minplaytime',\n",
    "                                        'maxplaytime',\n",
    "                                        'minage',\n",
    "                                        #'community_minage',\n",
    "                                        #'language_dependency', # superfluous? mostly focus on english games\n",
    "                                        'boardgamecategories', \n",
    "                                        'boardgamemechanics',\n",
    "                                        'boardgamefamilies',\n",
    "                                        #'boardgameaccessories', # superfluous? probably has high correlation with the family and mechanics\n",
    "                                        #'boardgameimplementations', # superfluous?\n",
    "                                        'boardgamedesigners',\n",
    "                                        'boardgameartists',\n",
    "                                        #'boardgamepublishers', # superfluous?\n",
    "                                        #'usersrated', # already in the dataset\n",
    "                                        #'average', # already in the dataset\n",
    "                                        #'bayesaverage', # already in the dataset\n",
    "                                        #'ranks', # already in the dataset\n",
    "                                        'stddev',\n",
    "                                        'median',\n",
    "                                        'owned',\n",
    "                                        'trading',\n",
    "                                        'wanting',\n",
    "                                        'wishing',\n",
    "                                        'numcomments',\n",
    "                                        'numweights',\n",
    "                                        'averageweight'\n",
    "                                         ])\n",
    "    \n"
   ]
  },
  {
   "cell_type": "code",
   "execution_count": 4,
   "metadata": {},
   "outputs": [
    {
     "data": {
      "text/plain": [
       "450           1\n",
       "5149          2\n",
       "272           3\n",
       "6862          4\n",
       "343           5\n",
       "          ...  \n",
       "11487    432536\n",
       "12150    433099\n",
       "22669    433444\n",
       "11980    435979\n",
       "4578     436126\n",
       "Name: game_id, Length: 27720, dtype: int64"
      ]
     },
     "execution_count": 4,
     "metadata": {},
     "output_type": "execute_result"
    }
   ],
   "source": [
    "game_details['game_id'].sort_values()"
   ]
  },
  {
   "cell_type": "code",
   "execution_count": 5,
   "metadata": {},
   "outputs": [
    {
     "data": {
      "text/plain": [
       "205"
      ]
     },
     "execution_count": 5,
     "metadata": {},
     "output_type": "execute_result"
    }
   ],
   "source": [
    "# convert the pandas series to a list for looping\n",
    "game_ids_unupdated = [x for x in game_ids.to_list()]\n",
    "\n",
    "game_ids_unupdated = list(set(game_ids_unupdated) - set(game_details['game_id'].to_list()))\n",
    "\n",
    "game_ids_unupdated = list(map(str, game_ids_unupdated))\n",
    "game_ids_unupdated.sort()\n",
    "len(game_ids_unupdated)\n"
   ]
  },
  {
   "cell_type": "code",
   "execution_count": 6,
   "metadata": {},
   "outputs": [],
   "source": [
    "def _extract_details_from_link_element(link_element, detail_type):\n",
    "    detail_list = []\n",
    "    if type(link_element) == dict:\n",
    "        if link_element['@type'] == detail_type:\n",
    "            detail_list.append(item['@value'])\n",
    "    else:\n",
    "        for item in link_element:\n",
    "            if item['@type'] == detail_type:\n",
    "                detail_list.append(item['@value'])\n",
    "\n",
    "    return ','.join(detail_list)\n",
    "    pass # these infos are all in the same element and can occur multiple times. The different detail_types are: '"
   ]
  },
  {
   "cell_type": "code",
   "execution_count": 7,
   "metadata": {},
   "outputs": [],
   "source": [
    "def _extract_info_into_dataframe(df, item_dict):\n",
    "    # save the info into a dictionary\n",
    "    info = {\n",
    "        'game_id': item_dict['@id'],\n",
    "        #'name': item_dict[item], # included in dataset\n",
    "        #'alt_name', # maybe include, so the searching goes easier\n",
    "        'description': item_dict['description'],\n",
    "        #'yearpublished': item_dict['yearpublished']['@value'], # already included in dataset\n",
    "        'minplayers': item_dict['minplayers']['@value'],\n",
    "        'maxplayers': item_dict['maxplayers']['@value'],\n",
    "        'community_best_with': item_dict['poll-summary']['result'][0]['@value'],\n",
    "        'community_recommended_with': item_dict['poll-summary']['result'][1]['@value'],\n",
    "        'playingtime': item_dict['playingtime']['@value'],\n",
    "        'minplaytime': item_dict['minplaytime']['@value'],\n",
    "        'maxplaytime': item_dict['maxplaytime']['@value'],\n",
    "        'minage': item_dict['minage']['@value'],\n",
    "        #'community_minage': item_dict[item], # hassle to extract\n",
    "        #'language_dependency': item_dict[item], # superfluous? mostly focus on english games\n",
    "        'boardgamecategories': _extract_details_from_link_element(item_dict['link'], 'boardgamecategory'), \n",
    "        'boardgamemechanics': _extract_details_from_link_element(item_dict['link'], 'boardgamemechanic'),\n",
    "        'boardgamefamilies': _extract_details_from_link_element(item_dict['link'], 'boardgamefamily'),\n",
    "        #'boardgameaccessories': _extract_details_from_link_element(item_dict['link'], 'boardgameaccessory'), # superfluous? probably has high correlation with the family and mechanics\n",
    "        #'boardgameimplementations': _extract_details_from_link_element(item_dict['link'], 'boardgameimplementation'), # superfluous?\n",
    "        'boardgamedesigners': _extract_details_from_link_element(item_dict['link'], 'boardgamedesigner'),\n",
    "        'boardgameartists': _extract_details_from_link_element(item_dict['link'], 'boardgameartist'),\n",
    "        #'boardgamepublishers': _extract_details_from_link_element(item_dict['link'], 'boardgamepublisher'), # superfluous?\n",
    "        #'usersrated': item_dict[item], # already in the dataset\n",
    "        #'average': item_dict[item], # already in the dataset\n",
    "        #'bayesaverage': item_dict[item], # already in the dataset\n",
    "        #'ranks': item_dict[item], # already in the dataset\n",
    "        'stddev': item_dict['statistics']['ratings']['stddev']['@value'],\n",
    "        'median': item_dict['statistics']['ratings']['median']['@value'],\n",
    "        'owned': item_dict['statistics']['ratings']['owned']['@value'],\n",
    "        'trading': item_dict['statistics']['ratings']['trading']['@value'],\n",
    "        'wanting': item_dict['statistics']['ratings']['wanting']['@value'],\n",
    "        'wishing': item_dict['statistics']['ratings']['wishing']['@value'],\n",
    "        'numcomments': item_dict['statistics']['ratings']['numcomments']['@value'],\n",
    "        'numweights': item_dict['statistics']['ratings']['numweights']['@value'],\n",
    "        'averageweight': item_dict['statistics']['ratings']['averageweight']['@value']\n",
    "    }\n",
    "    return info\n",
    "    "
   ]
  },
  {
   "cell_type": "code",
   "execution_count": 8,
   "metadata": {},
   "outputs": [],
   "source": [
    "# prepare and execute the api call\n",
    "form_values = {\n",
    "    'id':'', # Specifies the id of the thing(s) to retrieve. To request multiple things with a single query, NNN can specify a comma-delimited list of ids. Maximum 20.\n",
    "    #'type':'', # Specifies that, regardless of the type of thing asked for by id, the results are filtered by the THINGTYPE(s) specified. Multiple THINGTYPEs can be specified in a comma-delimited list.\n",
    "    #'versions':'1', # Returns version info for the item.\n",
    "    #'videos':'1', # Returns videos for the item.\n",
    "    'stats':'1', # Returns ranking and rating stats for the item.\n",
    "    #'historical':'1', # Not currently supported. Returns historical data over time. See page parameter.\n",
    "    #'marketplace':'1', # Returns marketplace data.\n",
    "    #'comments':'1', # Returns all comments about the item. Also includes ratings when commented. See page parameter.\n",
    "    #'ratingcomments':'1', # Returns all ratings for the item. Also includes comments when rated. See page parameter. The ratingcomments and comments parameters cannot be used together, as the output always appears in the <comments> node of the XML; comments parameter takes precedence if both are specified. Ratings are sorted in descending rating value, based on the highest rating they have assigned to that item (each item in the collection can have a different rating).\n",
    "    #'page':'1', # Defaults to 1, controls the page of data to see for historical info, comments, and ratings data.\n",
    "    #'pagesize':'10', # Set the number of records to return in paging. Minimum is 10, maximum is 100.\n",
    "    #'from':'', # Not currently supported.\n",
    "    #'to':'' # Not currently supported.\n",
    "}\n",
    "max_ids_per_call = 20\n",
    "counter = 0\n",
    "# while game_ids_unupdated != []:\n",
    "while game_ids_unupdated != []:\n",
    "    try:\n",
    "        ids_to_update = \",\".join(game_ids_unupdated[:max_ids_per_call])  # Get first 20 items and join with ','\n",
    "        del game_ids_unupdated[:max_ids_per_call]  # Remove them from the original list\n",
    "    except:\n",
    "         print('Some ID is a list')\n",
    "         print(game_ids_unupdated[:max_ids_per_call])\n",
    "    # update the API parameter to get the current id's\n",
    "    form_values.update({'id':ids_to_update})\n",
    "    # get the info from BGG\n",
    "    response = requests.get(url_things, form_values)\n",
    "    if response.status_code == 429:\n",
    "        print('Too many requests!', counter, game_details.shape)\n",
    "        counter +=1\n",
    "        time.sleep(5)\n",
    "    # save the info into the dataframe\n",
    "    if response.status_code == 200:\n",
    "        info = xmltodict.parse(response.text)  \n",
    "    else:\n",
    "        game_ids_unupdated.append(ids_to_update.split(','))\n",
    "        continue\n",
    "    for game in info['items']['item']:\n",
    "            info_current_game = _extract_info_into_dataframe(game_details, game)\n",
    "            df_current_game = pd.DataFrame(info_current_game, index = [int(info_current_game['game_id'])])\n",
    "            game_details = pd.concat([game_details, df_current_game])\n",
    "        \n"
   ]
  },
  {
   "cell_type": "code",
   "execution_count": 9,
   "metadata": {},
   "outputs": [
    {
     "data": {
      "text/plain": [
       "0        224517\n",
       "1        161936\n",
       "2        342942\n",
       "3        174430\n",
       "4        233078\n",
       "          ...  \n",
       "99935     99935\n",
       "99949     99949\n",
       "99975     99975\n",
       "99976     99976\n",
       "99992     99992\n",
       "Name: game_id, Length: 27925, dtype: int64"
      ]
     },
     "execution_count": 9,
     "metadata": {},
     "output_type": "execute_result"
    }
   ],
   "source": [
    "game_details.drop_duplicates(inplace=True)\n",
    "game_details['game_id'] = game_details['game_id'].astype('int64')\n",
    "game_details['game_id']"
   ]
  },
  {
   "cell_type": "code",
   "execution_count": 10,
   "metadata": {},
   "outputs": [],
   "source": [
    "\n",
    "cols_to_use = game_details.columns.difference(all_games_ranked.columns)\n",
    "df = pd.merge(all_games_ranked, game_details[cols_to_use], left_on='id', right_on='game_id', suffixes=('',''))\n",
    "df['description'] = df['description'].fillna('')\n",
    "df.drop(columns=['id'], inplace=True)\n",
    "df.to_csv('data/game_details_raw.csv', index=False)"
   ]
  },
  {
   "cell_type": "code",
   "execution_count": 11,
   "metadata": {},
   "outputs": [
    {
     "name": "stdout",
     "output_type": "stream",
     "text": [
      "<class 'pandas.core.frame.DataFrame'>\n",
      "RangeIndex: 27925 entries, 0 to 27924\n",
      "Data columns (total 39 columns):\n",
      " #   Column                      Non-Null Count  Dtype  \n",
      "---  ------                      --------------  -----  \n",
      " 0   name                        27925 non-null  object \n",
      " 1   yearpublished               27925 non-null  int64  \n",
      " 2   rank                        27925 non-null  int64  \n",
      " 3   bayesaverage                27925 non-null  float64\n",
      " 4   average                     27925 non-null  float64\n",
      " 5   usersrated                  27925 non-null  int64  \n",
      " 6   is_expansion                27925 non-null  int64  \n",
      " 7   abstracts_rank              1441 non-null   float64\n",
      " 8   cgs_rank                    367 non-null    float64\n",
      " 9   childrensgames_rank         1082 non-null   float64\n",
      " 10  familygames_rank            3380 non-null   float64\n",
      " 11  partygames_rank             922 non-null    float64\n",
      " 12  strategygames_rank          3044 non-null   float64\n",
      " 13  thematic_rank               1705 non-null   float64\n",
      " 14  wargames_rank               4350 non-null   float64\n",
      " 15  averageweight               27925 non-null  object \n",
      " 16  boardgameartists            20711 non-null  object \n",
      " 17  boardgamecategories         27557 non-null  object \n",
      " 18  boardgamedesigners          26902 non-null  object \n",
      " 19  boardgamefamilies           24068 non-null  object \n",
      " 20  boardgamemechanics          26161 non-null  object \n",
      " 21  community_best_with         24871 non-null  object \n",
      " 22  community_recommended_with  27925 non-null  object \n",
      " 23  description                 27925 non-null  object \n",
      " 24  game_id                     27925 non-null  int64  \n",
      " 25  maxplayers                  27925 non-null  object \n",
      " 26  maxplaytime                 27925 non-null  object \n",
      " 27  median                      27925 non-null  object \n",
      " 28  minage                      27925 non-null  object \n",
      " 29  minplayers                  27925 non-null  object \n",
      " 30  minplaytime                 27925 non-null  object \n",
      " 31  numcomments                 27925 non-null  object \n",
      " 32  numweights                  27925 non-null  object \n",
      " 33  owned                       27925 non-null  object \n",
      " 34  playingtime                 27925 non-null  object \n",
      " 35  stddev                      27925 non-null  object \n",
      " 36  trading                     27925 non-null  object \n",
      " 37  wanting                     27925 non-null  object \n",
      " 38  wishing                     27925 non-null  object \n",
      "dtypes: float64(10), int64(5), object(24)\n",
      "memory usage: 8.3+ MB\n"
     ]
    }
   ],
   "source": [
    "df.info()"
   ]
  },
  {
   "cell_type": "code",
   "execution_count": 12,
   "metadata": {},
   "outputs": [
    {
     "data": {
      "text/plain": [
       "0        Hand Management,Income,Loans,Market,Network an...\n",
       "1        Action Points,Cooperative Game,Hand Management...\n",
       "2        Action Queue,End Game Bonuses,Grid Coverage,Ha...\n",
       "3        Action Queue,Action Retrieval,Campaign / Battl...\n",
       "4        Action Drafting,Area-Impulse,Dice Rolling,Foll...\n",
       "                               ...                        \n",
       "27920       Betting and Bluffing,Bingo,Pattern Recognition\n",
       "27921                                                  NaN\n",
       "27922                                 Roll / Spin and Move\n",
       "27923      Events,Race,Roll / Spin and Move,Track Movement\n",
       "27924        Paper-and-Pencil,Pattern Building,Square Grid\n",
       "Name: boardgamemechanics, Length: 27925, dtype: object"
      ]
     },
     "execution_count": 12,
     "metadata": {},
     "output_type": "execute_result"
    }
   ],
   "source": [
    "df['boardgamemechanics']"
   ]
  },
  {
   "cell_type": "code",
   "execution_count": 13,
   "metadata": {},
   "outputs": [
    {
     "name": "stdout",
     "output_type": "stream",
     "text": [
      "object\n"
     ]
    }
   ],
   "source": [
    "print(df['community_best_with'].dtype)"
   ]
  },
  {
   "cell_type": "code",
   "execution_count": 14,
   "metadata": {},
   "outputs": [
    {
     "name": "stdout",
     "output_type": "stream",
     "text": [
      "boardgamecategories\n",
      "boardgamemechanics\n"
     ]
    }
   ],
   "source": [
    "if df['community_best_with'].dtype == 'object':\n",
    "    df['community_best_with'] = df['community_best_with'].str.extract('(\\d+)').astype(float)\n",
    "collective_columns = [#'boardgameartists',\n",
    "                      'boardgamecategories',\n",
    "                      #'boardgamedesigners',\n",
    "                      #'boardgamefamilies',\n",
    "                      'boardgamemechanics'\n",
    "                      ]\n",
    "df[collective_columns].fillna('')\n",
    "for category in collective_columns:\n",
    "    print(category)\n",
    "    df = df.join(df[category].str.get_dummies(sep=','), rsuffix=category)"
   ]
  },
  {
   "cell_type": "code",
   "execution_count": 15,
   "metadata": {},
   "outputs": [
    {
     "data": {
      "text/plain": [
       "Index(['name', 'yearpublished', 'rank', 'bayesaverage', 'average',\n",
       "       'usersrated', 'is_expansion', 'abstracts_rank', 'cgs_rank',\n",
       "       'childrensgames_rank',\n",
       "       ...\n",
       "       'Turn Order: Stat-Based', 'Turn Order: Time Track',\n",
       "       'Variable Phase Order', 'Variable Player Powers', 'Variable Set-up',\n",
       "       'Victory Points as a Resource', 'Voting', 'Worker Placement',\n",
       "       'Worker Placement with Dice Workers', 'Zone of Control'],\n",
       "      dtype='object', length=318)"
      ]
     },
     "execution_count": 15,
     "metadata": {},
     "output_type": "execute_result"
    }
   ],
   "source": [
    "df.columns"
   ]
  },
  {
   "cell_type": "code",
   "execution_count": 16,
   "metadata": {},
   "outputs": [],
   "source": [
    "df.to_csv('data/game_details_cleaned.csv', index=False)"
   ]
  }
 ],
 "metadata": {
  "kernelspec": {
   "display_name": ".venv",
   "language": "python",
   "name": "python3"
  },
  "language_info": {
   "codemirror_mode": {
    "name": "ipython",
    "version": 3
   },
   "file_extension": ".py",
   "mimetype": "text/x-python",
   "name": "python",
   "nbconvert_exporter": "python",
   "pygments_lexer": "ipython3",
   "version": "3.11.3"
  }
 },
 "nbformat": 4,
 "nbformat_minor": 2
}
