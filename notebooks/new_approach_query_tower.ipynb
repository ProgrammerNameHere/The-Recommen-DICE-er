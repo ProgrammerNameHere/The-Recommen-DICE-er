{
 "cells": [
  {
   "cell_type": "code",
   "execution_count": 1,
   "metadata": {},
   "outputs": [
    {
     "name": "stdout",
     "output_type": "stream",
     "text": [
      "WARNING:tensorflow:From c:\\Users\\phili\\Desktop\\neuefische\\The-Recommen-DICE-er\\.venv\\Lib\\site-packages\\keras\\src\\losses.py:2976: The name tf.losses.sparse_softmax_cross_entropy is deprecated. Please use tf.compat.v1.losses.sparse_softmax_cross_entropy instead.\n",
      "\n"
     ]
    }
   ],
   "source": [
    "# import setup.py\n",
    "import tensorflow as tf\n",
    "import pandas as pd\n",
    "import tensorflow_recommenders as tfrs\n",
    "import tensorflow_datasets as tfds\n",
    "from pprint import pprint"
   ]
  },
  {
   "cell_type": "code",
   "execution_count": 2,
   "metadata": {},
   "outputs": [],
   "source": [
    "def load_data(filepath):\n",
    "    df = pd.read_csv(filepath)\n",
    "    \n",
    "    return df"
   ]
  },
  {
   "cell_type": "code",
   "execution_count": 3,
   "metadata": {},
   "outputs": [
    {
     "name": "stdout",
     "output_type": "stream",
     "text": [
      "(50000, 3)\n"
     ]
    }
   ],
   "source": [
    "# load user data\n",
    "df_user = load_data('../data/user_ratings_small.csv')\n",
    "\n",
    "# create short version of user data with 50000 only rows \n",
    "df_user_short = df_user[-50000:]\n",
    "print(df_user_short.shape)"
   ]
  },
  {
   "cell_type": "code",
   "execution_count": 6,
   "metadata": {},
   "outputs": [],
   "source": [
    "# Convert pandas dataframe to TensorFlow Dataset\n",
    "ratings = tf.data.Dataset.from_tensor_slices({\n",
    "    'user': df_user_short['user'].values,\n",
    "    'game_id': df_user_short['game_id'].values,\n",
    "    'rating': df_user_short['rating'].values\n",
    "})"
   ]
  },
  {
   "cell_type": "code",
   "execution_count": 11,
   "metadata": {},
   "outputs": [
    {
     "name": "stdout",
     "output_type": "stream",
     "text": [
      "{'game_id': 16273, 'rating': 5.5, 'user': b'JCDINIZ'}\n"
     ]
    }
   ],
   "source": [
    "# show one line from tensor flow dataset\n",
    "for x in ratings.take(1).as_numpy_iterator():\n",
    "  #pprint.pprint(x)\n",
    "  pprint(x)"
   ]
  },
  {
   "cell_type": "code",
   "execution_count": null,
   "metadata": {},
   "outputs": [
    {
     "name": "stdout",
     "output_type": "stream",
     "text": [
      "WARNING:tensorflow:From c:\\Users\\phili\\Desktop\\neuefische\\The-Recommen-DICE-er\\.venv\\Lib\\site-packages\\keras\\src\\backend.py:873: The name tf.get_default_graph is deprecated. Please use tf.compat.v1.get_default_graph instead.\n",
      "\n",
      "WARNING:tensorflow:From c:\\Users\\phili\\Desktop\\neuefische\\The-Recommen-DICE-er\\.venv\\Lib\\site-packages\\keras\\src\\utils\\tf_utils.py:492: The name tf.ragged.RaggedTensorValue is deprecated. Please use tf.compat.v1.ragged.RaggedTensorValue instead.\n",
      "\n",
      "Vocabulary: ['[UNK]', 'loopoocat', 'The Eraser']\n"
     ]
    }
   ],
   "source": [
    "# Define the vocabulary, create a a lookup layer\n",
    "user_lookup = tf.keras.layers.StringLookup()\n",
    "\n",
    "# create the vocabulary from data\n",
    "user_lookup.adapt(ratings.map(lambda x: x[\"user\"]))\n",
    "\n",
    "# testprint the vocabulary\n",
    "print(f\"Vocabulary: {user_lookup.get_vocabulary()[:3]}\")\n",
    "\n",
    "# create the embeddings\n",
    "user_embedding = tf.keras.layers.Embedding(\n",
    "    # Let's use the explicit vocabulary lookup.\n",
    "    input_dim=user_lookup.vocabulary_size(),\n",
    "    output_dim=32\n",
    ")\n",
    "\n",
    "# create the user model \n",
    "user_model = tf.keras.Sequential([user_lookup, user_embedding])"
   ]
  },
  {
   "cell_type": "code",
   "execution_count": null,
   "metadata": {},
   "outputs": [
    {
     "data": {
      "text/plain": [
       "<tf.Tensor: shape=(1, 32), dtype=float32, numpy=\n",
       "array([[ 0.00918783, -0.01237703, -0.00634197, -0.0384252 , -0.01999358,\n",
       "        -0.01638033,  0.02652749, -0.03374199, -0.04453336,  0.0280096 ,\n",
       "        -0.02744752, -0.02172756, -0.02860097,  0.03531753, -0.04737209,\n",
       "         0.03760756, -0.03413975, -0.04031839, -0.01528304,  0.00454368,\n",
       "         0.03994949, -0.04935266,  0.04528964,  0.02020602, -0.03575091,\n",
       "         0.04675219, -0.03119127, -0.04859721, -0.00635438,  0.04307124,\n",
       "         0.02605419,  0.04420147]], dtype=float32)>"
      ]
     },
     "execution_count": 26,
     "metadata": {},
     "output_type": "execute_result"
    }
   ],
   "source": [
    "# get the embedding for one example\n",
    "user_model(['The Eraser'])"
   ]
  },
  {
   "cell_type": "code",
   "execution_count": null,
   "metadata": {},
   "outputs": [],
   "source": [
    "# Define the vocabulary, create a a lookup layer\n",
    "game_id_lookup = tf.keras.layers.IntegerLookup()\n",
    "# create the vocabulary from data\n",
    "game_id_lookup.adapt(ratings.map(lambda x: x[\"game_id\"]))\n",
    "\n",
    "# testprint the vocabulary\n",
    "print(f\"Vocabulary: {game_id_lookup.get_vocabulary()[:3]}\")\n",
    "\n",
    "# create the embeddings\n",
    "game_id_embedding = tf.keras.layers.Embedding(\n",
    "    # Let's use the explicit vocabulary lookup.\n",
    "    input_dim=game_id_lookup.vocabulary_size(),\n",
    "    output_dim=32\n",
    ")\n",
    "\n",
    "# create the game id model \n",
    "game_id_model = tf.keras.Sequential([game_id_lookup, game_id_embedding])"
   ]
  },
  {
   "cell_type": "code",
   "execution_count": null,
   "metadata": {},
   "outputs": [],
   "source": [
    "# get the embedding for one example\n",
    "game_id_model([265381])"
   ]
  },
  {
   "cell_type": "code",
   "execution_count": null,
   "metadata": {},
   "outputs": [],
   "source": []
  }
 ],
 "metadata": {
  "kernelspec": {
   "display_name": ".venv",
   "language": "python",
   "name": "python3"
  },
  "language_info": {
   "codemirror_mode": {
    "name": "ipython",
    "version": 3
   },
   "file_extension": ".py",
   "mimetype": "text/x-python",
   "name": "python",
   "nbconvert_exporter": "python",
   "pygments_lexer": "ipython3",
   "version": "3.11.3"
  }
 },
 "nbformat": 4,
 "nbformat_minor": 2
}
