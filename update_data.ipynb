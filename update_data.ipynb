{
 "cells": [
  {
   "cell_type": "markdown",
   "metadata": {},
   "source": [
    "# This is my Notebook to test collecting the data with the BGG API"
   ]
  },
  {
   "cell_type": "markdown",
   "metadata": {},
   "source": [
    "## Setup"
   ]
  },
  {
   "cell_type": "code",
   "execution_count": 1,
   "metadata": {},
   "outputs": [],
   "source": [
    "import requests\n",
    "import pandas as pd\n",
    "import xmltodict\n",
    "import time\n"
   ]
  },
  {
   "cell_type": "markdown",
   "metadata": {},
   "source": [
    "## Import data"
   ]
  },
  {
   "cell_type": "code",
   "execution_count": 2,
   "metadata": {},
   "outputs": [
    {
     "data": {
      "text/plain": [
       "27925"
      ]
     },
     "execution_count": 2,
     "metadata": {},
     "output_type": "execute_result"
    }
   ],
   "source": [
    "url_things = 'https://boardgamegeek.com/xmlapi2/thing?'\n",
    "\n",
    "all_games = pd.read_csv('data/boardgames_ranks.csv')\n",
    "game_ids = all_games.query('rank > 0')['id'].sort_values()\n",
    "len(game_ids)"
   ]
  },
  {
   "cell_type": "code",
   "execution_count": 3,
   "metadata": {},
   "outputs": [],
   "source": [
    "\n",
    "try:\n",
    "    game_details = pd.read_csv('data/game_details.csv')\n",
    "except:\n",
    "    game_details = pd.DataFrame(columns=['game_id',\n",
    "                                        #'alt_name', # maybe include, so the searching goes easier\n",
    "                                        'description',\n",
    "                                        'yearpublished',\n",
    "                                        'minplayers',\n",
    "                                        'maxplayers',\n",
    "                                        'community_best_with',\n",
    "                                        'community_recommended_with',\n",
    "                                        'playingtime',\n",
    "                                        'minplaytime',\n",
    "                                        'maxplaytime',\n",
    "                                        'minage',\n",
    "                                        #'community_minage',\n",
    "                                        #'language_dependency', # superfluous? mostly focus on english games\n",
    "                                        'boardgamecategories', \n",
    "                                        'boardgamemechanics',\n",
    "                                        'boardgamefamilies',\n",
    "                                        #'boardgameaccessories', # superfluous? probably has high correlation with the family and mechanics\n",
    "                                        #'boardgameimplementations', # superfluous?\n",
    "                                        'boardgamedesigners',\n",
    "                                        'boardgameartists',\n",
    "                                        #'boardgamepublishers', # superfluous?\n",
    "                                        #'usersrated', # already in the dataset\n",
    "                                        #'average', # already in the dataset\n",
    "                                        #'bayesaverage', # already in the dataset\n",
    "                                        #'ranks', # already in the dataset\n",
    "                                        'stddev',\n",
    "                                        'median',\n",
    "                                        'owned',\n",
    "                                        'trading',\n",
    "                                        'wanting',\n",
    "                                        'wishing',\n",
    "                                        'numcomments',\n",
    "                                        'numweights',\n",
    "                                        'averageweight'\n",
    "                                         ])\n",
    "    \n"
   ]
  },
  {
   "cell_type": "code",
   "execution_count": 4,
   "metadata": {},
   "outputs": [
    {
     "data": {
      "text/plain": [
       "0             1\n",
       "1             2\n",
       "2             3\n",
       "3             4\n",
       "4             5\n",
       "          ...  \n",
       "15448    432536\n",
       "26414    433099\n",
       "15724    433444\n",
       "26420    435979\n",
       "16496    436126\n",
       "Name: game_id, Length: 27925, dtype: int64"
      ]
     },
     "execution_count": 4,
     "metadata": {},
     "output_type": "execute_result"
    }
   ],
   "source": [
    "game_details['game_id'].sort_values()"
   ]
  },
  {
   "cell_type": "code",
   "execution_count": 5,
   "metadata": {},
   "outputs": [
    {
     "data": {
      "text/plain": [
       "0"
      ]
     },
     "execution_count": 5,
     "metadata": {},
     "output_type": "execute_result"
    }
   ],
   "source": [
    "# convert the pandas series to a list for looping\n",
    "game_ids_unupdated = [x for x in game_ids.to_list()]\n",
    "\n",
    "game_ids_unupdated = list(set(game_ids_unupdated) - set(game_details['game_id'].to_list()))\n",
    "\n",
    "game_ids_unupdated = list(map(str, game_ids_unupdated))\n",
    "game_ids_unupdated.sort()\n",
    "len(game_ids_unupdated)\n"
   ]
  },
  {
   "cell_type": "code",
   "execution_count": 6,
   "metadata": {},
   "outputs": [],
   "source": [
    "def _extract_details_from_link_element(link_element, detail_type):\n",
    "    detail_list = []\n",
    "    if type(link_element) == dict:\n",
    "        if link_element['@type'] == detail_type:\n",
    "            detail_list.append(item['@value'])\n",
    "    else:\n",
    "        for item in link_element:\n",
    "            if item['@type'] == detail_type:\n",
    "                detail_list.append(item['@value'])\n",
    "\n",
    "    return ','.join(detail_list)\n",
    "    pass # these infos are all in the same element and can occur multiple times. The different detail_types are: '"
   ]
  },
  {
   "cell_type": "code",
   "execution_count": 7,
   "metadata": {},
   "outputs": [],
   "source": [
    "def _extract_info_into_dataframe(df, item_dict):\n",
    "    # save the info into a dictionary\n",
    "    info = {\n",
    "        'game_id': item_dict['@id'],\n",
    "        #'name': item_dict[item], # included in dataset\n",
    "        #'alt_name', # maybe include, so the searching goes easier\n",
    "        'description': item_dict['description'],\n",
    "        'yearpublished': item_dict['yearpublished']['@value'],\n",
    "        'minplayers': item_dict['minplayers']['@value'],\n",
    "        'maxplayers': item_dict['maxplayers']['@value'],\n",
    "        'community_best_with': item_dict['poll-summary']['result'][0]['@value'],\n",
    "        'community_recommended_with': item_dict['poll-summary']['result'][1]['@value'],\n",
    "        'playingtime': item_dict['playingtime']['@value'],\n",
    "        'minplaytime': item_dict['minplaytime']['@value'],\n",
    "        'maxplaytime': item_dict['maxplaytime']['@value'],\n",
    "        'minage': item_dict['minage']['@value'],\n",
    "        #'community_minage': item_dict[item], # hassle to extract\n",
    "        #'language_dependency': item_dict[item], # superfluous? mostly focus on english games\n",
    "        'boardgamecategories': _extract_details_from_link_element(item_dict['link'], 'boardgamecategory'), \n",
    "        'boardgamemechanics': _extract_details_from_link_element(item_dict['link'], 'boardgamemechanic'),\n",
    "        'boardgamefamilies': _extract_details_from_link_element(item_dict['link'], 'boardgamefamily'),\n",
    "        #'boardgameaccessories': _extract_details_from_link_element(item_dict['link'], 'boardgameaccessory'), # superfluous? probably has high correlation with the family and mechanics\n",
    "        #'boardgameimplementations': _extract_details_from_link_element(item_dict['link'], 'boardgameimplementation'), # superfluous?\n",
    "        'boardgamedesigners': _extract_details_from_link_element(item_dict['link'], 'boardgamedesigner'),\n",
    "        'boardgameartists': _extract_details_from_link_element(item_dict['link'], 'boardgameartist'),\n",
    "        #'boardgamepublishers': _extract_details_from_link_element(item_dict['link'], 'boardgamepublisher'), # superfluous?\n",
    "        #'usersrated': item_dict[item], # already in the dataset\n",
    "        #'average': item_dict[item], # already in the dataset\n",
    "        #'bayesaverage': item_dict[item], # already in the dataset\n",
    "        #'ranks': item_dict[item], # already in the dataset\n",
    "        'stddev': item_dict['statistics']['ratings']['stddev']['@value'],\n",
    "        'median': item_dict['statistics']['ratings']['median']['@value'],\n",
    "        'owned': item_dict['statistics']['ratings']['owned']['@value'],\n",
    "        'trading': item_dict['statistics']['ratings']['trading']['@value'],\n",
    "        'wanting': item_dict['statistics']['ratings']['wanting']['@value'],\n",
    "        'wishing': item_dict['statistics']['ratings']['wishing']['@value'],\n",
    "        'numcomments': item_dict['statistics']['ratings']['numcomments']['@value'],\n",
    "        'numweights': item_dict['statistics']['ratings']['numweights']['@value'],\n",
    "        'averageweight': item_dict['statistics']['ratings']['averageweight']['@value']\n",
    "    }\n",
    "    return info\n",
    "    "
   ]
  },
  {
   "cell_type": "code",
   "execution_count": 8,
   "metadata": {},
   "outputs": [],
   "source": [
    "# prepare and execute the api call\n",
    "form_values = {\n",
    "    'id':'', # Specifies the id of the thing(s) to retrieve. To request multiple things with a single query, NNN can specify a comma-delimited list of ids. Maximum 20.\n",
    "    #'type':'', # Specifies that, regardless of the type of thing asked for by id, the results are filtered by the THINGTYPE(s) specified. Multiple THINGTYPEs can be specified in a comma-delimited list.\n",
    "    #'versions':'1', # Returns version info for the item.\n",
    "    #'videos':'1', # Returns videos for the item.\n",
    "    'stats':'1', # Returns ranking and rating stats for the item.\n",
    "    #'historical':'1', # Not currently supported. Returns historical data over time. See page parameter.\n",
    "    #'marketplace':'1', # Returns marketplace data.\n",
    "    #'comments':'1', # Returns all comments about the item. Also includes ratings when commented. See page parameter.\n",
    "    #'ratingcomments':'1', # Returns all ratings for the item. Also includes comments when rated. See page parameter. The ratingcomments and comments parameters cannot be used together, as the output always appears in the <comments> node of the XML; comments parameter takes precedence if both are specified. Ratings are sorted in descending rating value, based on the highest rating they have assigned to that item (each item in the collection can have a different rating).\n",
    "    #'page':'1', # Defaults to 1, controls the page of data to see for historical info, comments, and ratings data.\n",
    "    #'pagesize':'10', # Set the number of records to return in paging. Minimum is 10, maximum is 100.\n",
    "    #'from':'', # Not currently supported.\n",
    "    #'to':'' # Not currently supported.\n",
    "}\n",
    "max_ids_per_call = 20\n",
    "counter = 0\n",
    "# while game_ids_unupdated != []:\n",
    "while game_ids_unupdated != []:\n",
    "    try:\n",
    "        ids_to_update = \",\".join(game_ids_unupdated[:max_ids_per_call])  # Get first 20 items and join with ','\n",
    "        del game_ids_unupdated[:max_ids_per_call]  # Remove them from the original list\n",
    "    except:\n",
    "         print('Some ID is a list')\n",
    "         print(game_ids_unupdated[:max_ids_per_call])\n",
    "    # update the API parameter to get the current id's\n",
    "    form_values.update({'id':ids_to_update})\n",
    "    # get the info from BGG\n",
    "    response = requests.get(url_things, form_values)\n",
    "    if response.status_code == 429:\n",
    "        print('Too many requests!', counter, game_details.shape)\n",
    "        counter +=1\n",
    "        time.sleep(5)\n",
    "    # save the info into the dataframe\n",
    "    if response.status_code == 200:\n",
    "        info = xmltodict.parse(response.text)  \n",
    "    else:\n",
    "        game_ids_unupdated.append(ids_to_update.split(','))\n",
    "        continue\n",
    "    for game in info['items']['item']:\n",
    "            info_current_game = _extract_info_into_dataframe(game_details, game)\n",
    "            df_current_game = pd.DataFrame(info_current_game, index = [int(info_current_game['game_id'])])\n",
    "            game_details = pd.concat([game_details, df_current_game])\n",
    "        \n"
   ]
  },
  {
   "cell_type": "code",
   "execution_count": 10,
   "metadata": {},
   "outputs": [
    {
     "name": "stdout",
     "output_type": "stream",
     "text": [
      "(27925, 26)\n",
      "(27925, 26)\n"
     ]
    }
   ],
   "source": [
    "print(game_details.shape)\n",
    "game_details.drop_duplicates(inplace=True)\n",
    "print(game_details.shape)\n"
   ]
  },
  {
   "cell_type": "code",
   "execution_count": 11,
   "metadata": {},
   "outputs": [],
   "source": [
    "game_details.to_csv('data/game_details.csv', index=False)"
   ]
  },
  {
   "cell_type": "code",
   "execution_count": 12,
   "metadata": {},
   "outputs": [
    {
     "name": "stdout",
     "output_type": "stream",
     "text": [
      "<class 'pandas.core.frame.DataFrame'>\n",
      "RangeIndex: 27925 entries, 0 to 27924\n",
      "Data columns (total 26 columns):\n",
      " #   Column                      Non-Null Count  Dtype  \n",
      "---  ------                      --------------  -----  \n",
      " 0   game_id                     27925 non-null  int64  \n",
      " 1   description                 27924 non-null  object \n",
      " 2   yearpublished               27925 non-null  int64  \n",
      " 3   minplayers                  27925 non-null  int64  \n",
      " 4   maxplayers                  27925 non-null  int64  \n",
      " 5   community_best_with         24842 non-null  object \n",
      " 6   community_recommended_with  27925 non-null  object \n",
      " 7   playingtime                 27925 non-null  int64  \n",
      " 8   minplaytime                 27925 non-null  int64  \n",
      " 9   maxplaytime                 27925 non-null  int64  \n",
      " 10  minage                      27925 non-null  int64  \n",
      " 11  boardgamecategories         27552 non-null  object \n",
      " 12  boardgamemechanics          26151 non-null  object \n",
      " 13  boardgamefamilies           24035 non-null  object \n",
      " 14  boardgamedesigners          26900 non-null  object \n",
      " 15  boardgameartists            20648 non-null  object \n",
      " 16  stddev                      27925 non-null  float64\n",
      " 17  median                      27925 non-null  int64  \n",
      " 18  owned                       27925 non-null  int64  \n",
      " 19  trading                     27925 non-null  int64  \n",
      " 20  wanting                     27925 non-null  int64  \n",
      " 21  wishing                     27925 non-null  int64  \n",
      " 22  numcomments                 27925 non-null  int64  \n",
      " 23  numweights                  27925 non-null  int64  \n",
      " 24  averageweight               27925 non-null  float64\n",
      " 25  id                          21297 non-null  float64\n",
      "dtypes: float64(3), int64(15), object(8)\n",
      "memory usage: 5.5+ MB\n"
     ]
    }
   ],
   "source": [
    "game_details.isna()"
   ]
  }
 ],
 "metadata": {
  "kernelspec": {
   "display_name": ".venv",
   "language": "python",
   "name": "python3"
  },
  "language_info": {
   "codemirror_mode": {
    "name": "ipython",
    "version": 3
   },
   "file_extension": ".py",
   "mimetype": "text/x-python",
   "name": "python",
   "nbconvert_exporter": "python",
   "pygments_lexer": "ipython3",
   "version": "3.11.3"
  }
 },
 "nbformat": 4,
 "nbformat_minor": 2
}
